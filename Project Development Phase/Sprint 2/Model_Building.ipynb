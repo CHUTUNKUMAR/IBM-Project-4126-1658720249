{
  "cells": [
    {
      "cell_type": "markdown",
      "source": [
        "#**Sprint 2**\n",
        "\n",
        "Team ID : PNT2022TMID39415\n",
        "\n",
        "Project Name : Real-Time Communication System Powered by AI for Specially Abled\n",
        "___\n",
        "**From Sprint 1**"
      ],
      "metadata": {
        "id": "o7z-3JJwEGtp"
      }
    },
    {
      "cell_type": "code",
      "execution_count": 9,
      "metadata": {
        "id": "MvhhF80exwH2",
        "colab": {
          "base_uri": "https://localhost:8080/"
        },
        "outputId": "8ad15c4a-a5d4-48ad-c08f-eeee7da72111"
      },
      "outputs": [
        {
          "output_type": "stream",
          "name": "stderr",
          "text": [
            "Using TensorFlow backend.\n",
            "/usr/local/lib/python3.7/dist-packages/tensorflow/python/framework/dtypes.py:516: FutureWarning: Passing (type, 1) or '1type' as a synonym of type is deprecated; in a future version of numpy, it will be understood as (type, (1,)) / '(1,)type'.\n",
            "  _np_qint8 = np.dtype([(\"qint8\", np.int8, 1)])\n",
            "/usr/local/lib/python3.7/dist-packages/tensorflow/python/framework/dtypes.py:517: FutureWarning: Passing (type, 1) or '1type' as a synonym of type is deprecated; in a future version of numpy, it will be understood as (type, (1,)) / '(1,)type'.\n",
            "  _np_quint8 = np.dtype([(\"quint8\", np.uint8, 1)])\n",
            "/usr/local/lib/python3.7/dist-packages/tensorflow/python/framework/dtypes.py:518: FutureWarning: Passing (type, 1) or '1type' as a synonym of type is deprecated; in a future version of numpy, it will be understood as (type, (1,)) / '(1,)type'.\n",
            "  _np_qint16 = np.dtype([(\"qint16\", np.int16, 1)])\n",
            "/usr/local/lib/python3.7/dist-packages/tensorflow/python/framework/dtypes.py:519: FutureWarning: Passing (type, 1) or '1type' as a synonym of type is deprecated; in a future version of numpy, it will be understood as (type, (1,)) / '(1,)type'.\n",
            "  _np_quint16 = np.dtype([(\"quint16\", np.uint16, 1)])\n",
            "/usr/local/lib/python3.7/dist-packages/tensorflow/python/framework/dtypes.py:520: FutureWarning: Passing (type, 1) or '1type' as a synonym of type is deprecated; in a future version of numpy, it will be understood as (type, (1,)) / '(1,)type'.\n",
            "  _np_qint32 = np.dtype([(\"qint32\", np.int32, 1)])\n",
            "/usr/local/lib/python3.7/dist-packages/tensorflow/python/framework/dtypes.py:525: FutureWarning: Passing (type, 1) or '1type' as a synonym of type is deprecated; in a future version of numpy, it will be understood as (type, (1,)) / '(1,)type'.\n",
            "  np_resource = np.dtype([(\"resource\", np.ubyte, 1)])\n",
            "/usr/local/lib/python3.7/dist-packages/tensorboard/compat/tensorflow_stub/dtypes.py:541: FutureWarning: Passing (type, 1) or '1type' as a synonym of type is deprecated; in a future version of numpy, it will be understood as (type, (1,)) / '(1,)type'.\n",
            "  _np_qint8 = np.dtype([(\"qint8\", np.int8, 1)])\n",
            "/usr/local/lib/python3.7/dist-packages/tensorboard/compat/tensorflow_stub/dtypes.py:542: FutureWarning: Passing (type, 1) or '1type' as a synonym of type is deprecated; in a future version of numpy, it will be understood as (type, (1,)) / '(1,)type'.\n",
            "  _np_quint8 = np.dtype([(\"quint8\", np.uint8, 1)])\n",
            "/usr/local/lib/python3.7/dist-packages/tensorboard/compat/tensorflow_stub/dtypes.py:543: FutureWarning: Passing (type, 1) or '1type' as a synonym of type is deprecated; in a future version of numpy, it will be understood as (type, (1,)) / '(1,)type'.\n",
            "  _np_qint16 = np.dtype([(\"qint16\", np.int16, 1)])\n",
            "/usr/local/lib/python3.7/dist-packages/tensorboard/compat/tensorflow_stub/dtypes.py:544: FutureWarning: Passing (type, 1) or '1type' as a synonym of type is deprecated; in a future version of numpy, it will be understood as (type, (1,)) / '(1,)type'.\n",
            "  _np_quint16 = np.dtype([(\"quint16\", np.uint16, 1)])\n",
            "/usr/local/lib/python3.7/dist-packages/tensorboard/compat/tensorflow_stub/dtypes.py:545: FutureWarning: Passing (type, 1) or '1type' as a synonym of type is deprecated; in a future version of numpy, it will be understood as (type, (1,)) / '(1,)type'.\n",
            "  _np_qint32 = np.dtype([(\"qint32\", np.int32, 1)])\n",
            "/usr/local/lib/python3.7/dist-packages/tensorboard/compat/tensorflow_stub/dtypes.py:550: FutureWarning: Passing (type, 1) or '1type' as a synonym of type is deprecated; in a future version of numpy, it will be understood as (type, (1,)) / '(1,)type'.\n",
            "  np_resource = np.dtype([(\"resource\", np.ubyte, 1)])\n"
          ]
        }
      ],
      "source": [
        "from keras.preprocessing.image import ImageDataGenerator\n",
        "train_datagen = ImageDataGenerator(rescale = 1./255, shear_range=0.3, zoom_range=0.2, horizontal_flip=True)\n",
        "test_datagen = ImageDataGenerator(rescale = 1./255)"
      ]
    },
    {
      "cell_type": "code",
      "execution_count": 10,
      "metadata": {
        "colab": {
          "base_uri": "https://localhost:8080/"
        },
        "id": "mzEFJdZKx3fM",
        "outputId": "af4ec4de-2133-4465-9585-56a667e57c17"
      },
      "outputs": [
        {
          "output_type": "stream",
          "name": "stdout",
          "text": [
            "Found 15799 images belonging to 9 classes.\n",
            "Found 2250 images belonging to 9 classes.\n"
          ]
        }
      ],
      "source": [
        "x_train = train_datagen.flow_from_directory('/content/drive/MyDrive/Dataset/training_set', target_size=(64,84), batch_size=300, class_mode='categorical', color_mode = 'grayscale')\n",
        "\n",
        "x_test = test_datagen.flow_from_directory('/content/drive/MyDrive/Dataset/test_set', target_size=(64,84), batch_size=300, class_mode='categorical', color_mode = 'grayscale')"
      ]
    },
    {
      "cell_type": "markdown",
      "source": [
        "**Import The Required Model Building Libraries**"
      ],
      "metadata": {
        "id": "Vu_rCArrCUJs"
      }
    },
    {
      "cell_type": "code",
      "execution_count": 11,
      "metadata": {
        "id": "yQDSCPVoyLSK"
      },
      "outputs": [],
      "source": [
        "from keras.models import Sequential \n",
        "from keras.layers import Dense \n",
        "from keras.layers import Convolution2D \n",
        "from keras.layers import MaxPooling2D \n",
        "from keras.layers import Dropout \n",
        "from keras.layers import Flatten"
      ]
    },
    {
      "cell_type": "code",
      "execution_count": 12,
      "metadata": {
        "id": "0pfGvTp3yXAj"
      },
      "outputs": [],
      "source": [
        "from keras.preprocessing.image import ImageDataGenerator\n",
        "train_datagen = ImageDataGenerator(rescale = 1./255, shear_range=0.3, zoom_range=0.2, horizontal_flip=True)\n",
        "test_datagen = ImageDataGenerator(rescale = 1./255)"
      ]
    },
    {
      "cell_type": "markdown",
      "source": [
        "**Initialize The Model**"
      ],
      "metadata": {
        "id": "Xcu1MosUCbf3"
      }
    },
    {
      "cell_type": "code",
      "execution_count": 13,
      "metadata": {
        "id": "DDbG4tayyXay",
        "colab": {
          "base_uri": "https://localhost:8080/"
        },
        "outputId": "9e506e7b-bb06-4e9b-881e-ffb97ca60187"
      },
      "outputs": [
        {
          "output_type": "stream",
          "name": "stderr",
          "text": [
            "WARNING:tensorflow:From /usr/local/lib/python3.7/dist-packages/keras/backend/tensorflow_backend.py:74: The name tf.get_default_graph is deprecated. Please use tf.compat.v1.get_default_graph instead.\n",
            "\n"
          ]
        }
      ],
      "source": [
        "model = Sequential()"
      ]
    },
    {
      "cell_type": "markdown",
      "source": [
        "**Add The Convolution Layer**"
      ],
      "metadata": {
        "id": "BkdMW9J-Ci04"
      }
    },
    {
      "cell_type": "code",
      "execution_count": 14,
      "metadata": {
        "id": "lcdVZ035yXpa",
        "colab": {
          "base_uri": "https://localhost:8080/"
        },
        "outputId": "3b9d1727-69a6-44b8-dbed-6dc8b72c3ee9"
      },
      "outputs": [
        {
          "output_type": "stream",
          "name": "stderr",
          "text": [
            "WARNING:tensorflow:From /usr/local/lib/python3.7/dist-packages/keras/backend/tensorflow_backend.py:517: The name tf.placeholder is deprecated. Please use tf.compat.v1.placeholder instead.\n",
            "\n",
            "WARNING:tensorflow:From /usr/local/lib/python3.7/dist-packages/keras/backend/tensorflow_backend.py:4138: The name tf.random_uniform is deprecated. Please use tf.random.uniform instead.\n",
            "\n"
          ]
        }
      ],
      "source": [
        "model.add(Convolution2D(32, (3,3), input_shape=(64,84,1), activation='relu'))"
      ]
    },
    {
      "cell_type": "markdown",
      "source": [
        "**Add The Pooling Layer**"
      ],
      "metadata": {
        "id": "2hO5kCiBCpzk"
      }
    },
    {
      "cell_type": "code",
      "execution_count": 15,
      "metadata": {
        "id": "Jy_vR09hyjHB",
        "colab": {
          "base_uri": "https://localhost:8080/"
        },
        "outputId": "5362981b-aa73-44a1-a0e4-f2d5a5397d3d"
      },
      "outputs": [
        {
          "output_type": "stream",
          "name": "stderr",
          "text": [
            "WARNING:tensorflow:From /usr/local/lib/python3.7/dist-packages/keras/backend/tensorflow_backend.py:3976: The name tf.nn.max_pool is deprecated. Please use tf.nn.max_pool2d instead.\n",
            "\n"
          ]
        }
      ],
      "source": [
        "model.add(MaxPooling2D(pool_size=(2,2)))"
      ]
    },
    {
      "cell_type": "markdown",
      "source": [
        "**Add The Flatten Layer**"
      ],
      "metadata": {
        "id": "TmY2iK12Cuwk"
      }
    },
    {
      "cell_type": "code",
      "execution_count": 16,
      "metadata": {
        "id": "a_Lv_vqqyjWu"
      },
      "outputs": [],
      "source": [
        "model.add(Flatten())"
      ]
    },
    {
      "cell_type": "markdown",
      "source": [
        "**Adding The Dense Layers**"
      ],
      "metadata": {
        "id": "YVUZt3UlCznH"
      }
    },
    {
      "cell_type": "code",
      "execution_count": 17,
      "metadata": {
        "id": "6vrVyTynyjoy"
      },
      "outputs": [],
      "source": [
        "model.add(Dense(units=512, activation='relu'))\n",
        "model.add(Dense(units=9, activation='softmax'))"
      ]
    },
    {
      "cell_type": "markdown",
      "source": [
        "**Compile The Model**"
      ],
      "metadata": {
        "id": "GZkwh65CC4as"
      }
    },
    {
      "cell_type": "code",
      "execution_count": 18,
      "metadata": {
        "id": "5U-yzBqyyvrJ",
        "colab": {
          "base_uri": "https://localhost:8080/"
        },
        "outputId": "ba97169a-5464-4edd-eedb-c49bcbc96e06"
      },
      "outputs": [
        {
          "output_type": "stream",
          "name": "stderr",
          "text": [
            "WARNING:tensorflow:From /usr/local/lib/python3.7/dist-packages/keras/optimizers.py:790: The name tf.train.Optimizer is deprecated. Please use tf.compat.v1.train.Optimizer instead.\n",
            "\n",
            "WARNING:tensorflow:From /usr/local/lib/python3.7/dist-packages/keras/backend/tensorflow_backend.py:3295: The name tf.log is deprecated. Please use tf.math.log instead.\n",
            "\n"
          ]
        }
      ],
      "source": [
        "model.compile(loss=\"categorical_crossentropy\", metrics=[\"accuracy\"], optimizer='adam')"
      ]
    },
    {
      "cell_type": "markdown",
      "source": [
        "**Fit The Model**"
      ],
      "metadata": {
        "id": "zYVNmnRqC95A"
      }
    },
    {
      "cell_type": "code",
      "execution_count": 20,
      "metadata": {
        "colab": {
          "base_uri": "https://localhost:8080/"
        },
        "id": "f_YpEd1oyv38",
        "outputId": "821e2bd8-e3b7-4bd9-f13b-2e03bba4ca80"
      },
      "outputs": [
        {
          "output_type": "stream",
          "name": "stdout",
          "text": [
            "Epoch 1/10\n",
            "24/24 [==============================] - 1579s 66s/step - loss: 1.2181 - acc: 0.6554 - val_loss: 0.4259 - val_acc: 0.8951\n",
            "Epoch 2/10\n",
            "24/24 [==============================] - 1537s 64s/step - loss: 0.2923 - acc: 0.9176 - val_loss: 0.2939 - val_acc: 0.9253\n",
            "Epoch 3/10\n",
            "24/24 [==============================] - 287s 12s/step - loss: 0.1432 - acc: 0.9631 - val_loss: 0.2244 - val_acc: 0.9492\n",
            "Epoch 4/10\n",
            "24/24 [==============================] - 79s 3s/step - loss: 0.1097 - acc: 0.9689 - val_loss: 0.2273 - val_acc: 0.9544\n",
            "Epoch 5/10\n",
            "24/24 [==============================] - 80s 3s/step - loss: 0.0795 - acc: 0.9785 - val_loss: 0.2054 - val_acc: 0.9659\n",
            "Epoch 6/10\n",
            "24/24 [==============================] - 82s 3s/step - loss: 0.0522 - acc: 0.9881 - val_loss: 0.2102 - val_acc: 0.9686\n",
            "Epoch 7/10\n",
            "24/24 [==============================] - 79s 3s/step - loss: 0.0388 - acc: 0.9916 - val_loss: 0.2089 - val_acc: 0.9728\n",
            "Epoch 8/10\n",
            "24/24 [==============================] - 95s 4s/step - loss: 0.0303 - acc: 0.9935 - val_loss: 0.1981 - val_acc: 0.9749\n",
            "Epoch 9/10\n",
            "24/24 [==============================] - 98s 4s/step - loss: 0.0289 - acc: 0.9928 - val_loss: 0.2347 - val_acc: 0.9760\n",
            "Epoch 10/10\n",
            "24/24 [==============================] - 103s 4s/step - loss: 0.0208 - acc: 0.9954 - val_loss: 0.1992 - val_acc: 0.9756\n"
          ]
        },
        {
          "output_type": "execute_result",
          "data": {
            "text/plain": [
              "<keras.callbacks.History at 0x7f9427a2d190>"
            ]
          },
          "metadata": {},
          "execution_count": 20
        }
      ],
      "source": [
        "model.fit_generator(x_train, steps_per_epoch=24, epochs=10, validation_data=x_test, validation_steps=40)"
      ]
    },
    {
      "cell_type": "markdown",
      "source": [
        "**Save The Model**"
      ],
      "metadata": {
        "id": "vwDRcafnDFmq"
      }
    },
    {
      "cell_type": "code",
      "source": [
        "model.save('aslpng1.h5')"
      ],
      "metadata": {
        "id": "XKaPRqlZ6ET-"
      },
      "execution_count": 22,
      "outputs": []
    }
  ],
  "metadata": {
    "colab": {
      "collapsed_sections": [],
      "provenance": []
    },
    "kernelspec": {
      "display_name": "Python 3",
      "name": "python3"
    },
    "language_info": {
      "name": "python"
    }
  },
  "nbformat": 4,
  "nbformat_minor": 0
}